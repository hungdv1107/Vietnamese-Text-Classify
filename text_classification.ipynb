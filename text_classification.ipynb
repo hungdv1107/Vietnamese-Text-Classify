{
  "nbformat": 4,
  "nbformat_minor": 0,
  "metadata": {
    "colab": {
      "name": "NLP-word2vec.ipynb",
      "provenance": [],
      "collapsed_sections": [],
      "toc_visible": true
    },
    "kernelspec": {
      "name": "python3",
      "display_name": "Python 3"
    }
  },
  "cells": [
    {
      "cell_type": "code",
      "metadata": {
        "id": "nx-2Ri57x-2L",
        "colab_type": "code",
        "outputId": "eacff26f-35fe-406b-e595-8d7e536c49f6",
        "colab": {
          "base_uri": "https://localhost:8080/",
          "height": 122
        }
      },
      "source": [
        "from google.colab import drive\n",
        "drive.mount(\"/content/drive\")"
      ],
      "execution_count": 0,
      "outputs": [
        {
          "output_type": "stream",
          "text": [
            "Go to this URL in a browser: https://accounts.google.com/o/oauth2/auth?client_id=947318989803-6bn6qk8qdgf4n4g3pfee6491hc0brc4i.apps.googleusercontent.com&redirect_uri=urn%3Aietf%3Awg%3Aoauth%3A2.0%3Aoob&scope=email%20https%3A%2F%2Fwww.googleapis.com%2Fauth%2Fdocs.test%20https%3A%2F%2Fwww.googleapis.com%2Fauth%2Fdrive%20https%3A%2F%2Fwww.googleapis.com%2Fauth%2Fdrive.photos.readonly%20https%3A%2F%2Fwww.googleapis.com%2Fauth%2Fpeopleapi.readonly&response_type=code\n",
            "\n",
            "Enter your authorization code:\n",
            "··········\n",
            "Mounted at /content/drive\n"
          ],
          "name": "stdout"
        }
      ]
    },
    {
      "cell_type": "code",
      "metadata": {
        "id": "yVmIU29Yyscw",
        "colab_type": "code",
        "colab": {}
      },
      "source": [
        "#install pyvi package\n",
        "!pip install pyvi"
      ],
      "execution_count": 0,
      "outputs": []
    },
    {
      "cell_type": "code",
      "metadata": {
        "id": "8Sou4D9Syp-_",
        "colab_type": "code",
        "colab": {}
      },
      "source": [
        "from pyvi import ViTokenizer, ViPosTagger # thư viện NLP tiếng Việt\n",
        "from tqdm import tqdm\n",
        "import numpy as np\n",
        "import gensim # thư viện NLP"
      ],
      "execution_count": 0,
      "outputs": []
    },
    {
      "cell_type": "code",
      "metadata": {
        "id": "M1TSTRpSyyqW",
        "colab_type": "code",
        "colab": {}
      },
      "source": [
        "import os \n",
        "\n",
        "def get_data(folder_path):\n",
        "    data = []\n",
        "    labels = []\n",
        "    dirs = os.listdir(folder_path)\n",
        "    for path in tqdm(dirs):\n",
        "        file_paths = os.listdir(os.path.join(folder_path, path))\n",
        "        for file_path in (file_paths):\n",
        "            with open(os.path.join(folder_path, path, file_path), 'r', encoding=\"utf-16\") as f:\n",
        "                lines = f.readlines()\n",
        "                lines = ' '.join(lines)\n",
        "                \n",
        "#               Tien xu li du lieu don gian\n",
        "                lines = gensim.utils.simple_preprocess(lines)\n",
        "                lines = ' '.join(lines)\n",
        "        \n",
        "#               Tách từ tiếng Việt\n",
        "                lines = ViTokenizer.tokenize(lines)\n",
        "                data.append(lines)\n",
        "                labels.append(path)\n",
        "\n",
        "    return data, label"
      ],
      "execution_count": 0,
      "outputs": []
    },
    {
      "cell_type": "code",
      "metadata": {
        "id": "mYhV6ohKy51j",
        "colab_type": "code",
        "colab": {}
      },
      "source": [
        "X_data, y_data = get_data('/content/drive/My Drive/NLP/10Topics/Ver1.1/Train_Full')"
      ],
      "execution_count": 0,
      "outputs": []
    },
    {
      "cell_type": "code",
      "metadata": {
        "id": "kFuPAqdOy8dN",
        "colab_type": "code",
        "colab": {}
      },
      "source": [
        "# import pickle\n",
        "\n",
        "# pickle.dump(X_data, open('/content/drive/My Drive/NLP/10Topics/Ver1.1/X_data.pkl', 'wb'))\n",
        "# pickle.dump(y_data, open('/content/drive/My Drive/NLP/10Topics/Ver1.1/y_data.pkl', 'wb'))"
      ],
      "execution_count": 0,
      "outputs": []
    },
    {
      "cell_type": "code",
      "metadata": {
        "id": "y-ZkIKAYy_6h",
        "colab_type": "code",
        "colab": {}
      },
      "source": [
        "X_test, y_test = get_data('/content/drive/My Drive/NLP/10Topics/Ver1.1/Test_Full')\n"
      ],
      "execution_count": 0,
      "outputs": []
    },
    {
      "cell_type": "code",
      "metadata": {
        "id": "pPcn7xDlzCwj",
        "colab_type": "code",
        "colab": {}
      },
      "source": [
        "pickle.dump(X_test, open('/content/drive/My Drive/NLP/10Topics/Ver1.1/X_test.pkl', 'wb'))\n",
        "pickle.dump(y_test, open('/content/drive/My Drive/NLP/10Topics/Ver1.1/y_test.pkl', 'wb'))"
      ],
      "execution_count": 0,
      "outputs": []
    },
    {
      "cell_type": "code",
      "metadata": {
        "id": "DscoTFUTzFvJ",
        "colab_type": "code",
        "colab": {}
      },
      "source": [
        "#word enb\n",
        "import os\n",
        "import pickle\n",
        "X_test = pickle.load(open(\"/content/drive/My Drive/NLP/10Topics/Ver1.1/X_data.pkl\",'rb'))\n",
        "y_test = pickle.load(open(\"/content/drive/My Drive/NLP/10Topics/Ver1.1/y_data.pkl\",'rb'))\n",
        "X_data = pickle.load(open(\"/content/drive/My Drive/NLP/10Topics/Ver1.1/X_test.pkl\",'rb'))\n",
        "y_data = pickle.load(open(\"/content/drive/My Drive/NLP/10Topics/Ver1.1/y_test.pkl\",'rb'))"
      ],
      "execution_count": 0,
      "outputs": []
    },
    {
      "cell_type": "code",
      "metadata": {
        "id": "ARVJXzvtzIcF",
        "colab_type": "code",
        "colab": {}
      },
      "source": [
        "with open('/content/drive/My Drive/NLP/vietnamese-stopwords-dash.txt', 'r') as f:\n",
        "    stopwords = set([w.strip() for w in f.readlines()])"
      ],
      "execution_count": 0,
      "outputs": []
    },
    {
      "cell_type": "code",
      "metadata": {
        "id": "a07sCHlczLEi",
        "colab_type": "code",
        "colab": {}
      },
      "source": [
        "for i in range(len(X_data)):\n",
        "    text = X_data[i]\n",
        "    try:\n",
        "        split_words =  [x.strip('0123456789%@$.,=+-!;/()*\"&^:#|\\n\\t\\'').lower() for x in text.split()]\n",
        "    except TypeError:\n",
        "        split_words =  []\n",
        "    X_data[i] = ' '.join([word for word in split_words if word not in stopwords])"
      ],
      "execution_count": 0,
      "outputs": []
    },
    {
      "cell_type": "code",
      "metadata": {
        "id": "tB-jtG7kzQGk",
        "colab_type": "code",
        "colab": {}
      },
      "source": [
        "for i in range(len(X_test)):\n",
        "    text = X_test[i]\n",
        "    try:\n",
        "        split_words =  [x.strip('0123456789%@$.,=+-!;/()*\"&^:#|\\n\\t\\'').lower() for x in text.split()]\n",
        "    except TypeError:\n",
        "        split_words =  []\n",
        "    X_test[i] = ' '.join([word for word in split_words if word not in stopwords])"
      ],
      "execution_count": 0,
      "outputs": []
    },
    {
      "cell_type": "code",
      "metadata": {
        "id": "8UqmuI9pzTXN",
        "colab_type": "code",
        "colab": {}
      },
      "source": [
        "from sklearn.feature_extraction.text import TfidfVectorizer\n",
        "\n",
        "tfidf_vect = TfidfVectorizer(analyzer='word', max_features=10000)\n",
        "#Tính tfidf cho tập train\n",
        "tfidf_vect.fit(X_data)\n",
        "pickle.dump(tfidf_vect, open(\"/content/drive/My Drive/NLP/Model/vectorizer.pickle\", \"wb\"))\n",
        "tfidf_X_data =  tfidf_vect.transform(X_data)\n",
        "tfidf_X_test =  tfidf_vect.transform(X_test)"
      ],
      "execution_count": 0,
      "outputs": []
    },
    {
      "cell_type": "code",
      "metadata": {
        "id": "linC5R0LzVux",
        "colab_type": "code",
        "colab": {}
      },
      "source": [
        "from sklearn.decomposition import TruncatedSVD\n",
        "\n",
        "svd = TruncatedSVD(n_components=500, random_state=1998)\n",
        "svd.fit(tfidf_X_data)\n",
        "pickle.dump(svd, open(\"/content/drive/My Drive/NLP/Model/selector.pickle\", \"wb\"))\n",
        "\n",
        "tfidf_X_data_svd = svd.transform(tfidf_X_data)\n",
        "tfidf_X_test_svd = svd.transform(tfidf_X_test)"
      ],
      "execution_count": 0,
      "outputs": []
    },
    {
      "cell_type": "code",
      "metadata": {
        "id": "Qz_99BxQ5T6_",
        "colab_type": "code",
        "colab": {}
      },
      "source": [
        "from keras import models\n",
        "from keras.models import *\n",
        "from keras.layers import *\n",
        "from keras.callbacks import TensorBoard\n",
        "from keras.callbacks import ModelCheckpoint\n",
        "from keras.optimizers import adam\n",
        "from keras import optimizers\n",
        "from sklearn.model_selection import train_test_split"
      ],
      "execution_count": 0,
      "outputs": []
    },
    {
      "cell_type": "code",
      "metadata": {
        "id": "1dznGx1ZzYGA",
        "colab_type": "code",
        "colab": {}
      },
      "source": [
        "def lstm_model():\n",
        "    \n",
        "    input_layer = Input(shape=(500,))\n",
        "    layer = Reshape((1, 500))(input_layer)\n",
        "    layer = LSTM(256, activation='relu',dropout=0.4,recurrent_dropout=0.3)(layer)\n",
        "#     layer = LSTM(128, activation='relu',dropout=0.4,recurrent_dropout=0.3)(layer)\n",
        "#     keras.layers.RNN(cell, return_sequences=False, return_state=False, go_backwards=False, stateful=False, unroll=False)\n",
        "    layer = Dense(512, activation='relu')(layer)\n",
        "#     layer = Dropout(0.3)(layer)\n",
        "#     layer = Reshape((16, 32))(layer)\n",
        "#     layer = LSTM(256, activation='relu',dropout=0.4,recurrent_dropout=0.3)(layer)\n",
        "    layer = Dense(512, activation='relu')(layer)\n",
        "    layer = Dense(256, activation='relu')(layer)\n",
        "#     layer = Dropout(0.3)(layer)\n",
        "    layer = Dense(256, activation='relu')(layer)\n",
        "    layer = Dense(128, activation='relu')(layer)\n",
        "#     layer = Dropout(0.3)(layer)\n",
        "    layer = Dense(128, activation='relu')(layer)\n",
        "    output_layer = Dense(10, activation='softmax')(layer)\n",
        "    model = models.Model(input_layer, output_layer)\n",
        "#     models.Model.summary()\n",
        "    \n",
        "    model.compile(optimizer= 'adam', loss='sparse_categorical_crossentropy', metrics=['accuracy'])\n",
        "    \n",
        "    return model"
      ],
      "execution_count": 0,
      "outputs": []
    },
    {
      "cell_type": "code",
      "metadata": {
        "id": "chEfNQFR2G6h",
        "colab_type": "code",
        "outputId": "f018f809-c904-4c2c-8c0b-7aab8463a34a",
        "colab": {
          "base_uri": "https://localhost:8080/",
          "height": 476
        }
      },
      "source": [
        "model = lstm_model()\n",
        "model.summary()"
      ],
      "execution_count": 0,
      "outputs": [
        {
          "output_type": "stream",
          "text": [
            "_________________________________________________________________\n",
            "Layer (type)                 Output Shape              Param #   \n",
            "=================================================================\n",
            "input_4 (InputLayer)         (None, 500)               0         \n",
            "_________________________________________________________________\n",
            "reshape_4 (Reshape)          (None, 1, 500)            0         \n",
            "_________________________________________________________________\n",
            "lstm_4 (LSTM)                (None, 256)               775168    \n",
            "_________________________________________________________________\n",
            "dense_22 (Dense)             (None, 512)               131584    \n",
            "_________________________________________________________________\n",
            "dense_23 (Dense)             (None, 512)               262656    \n",
            "_________________________________________________________________\n",
            "dense_24 (Dense)             (None, 256)               131328    \n",
            "_________________________________________________________________\n",
            "dense_25 (Dense)             (None, 256)               65792     \n",
            "_________________________________________________________________\n",
            "dense_26 (Dense)             (None, 128)               32896     \n",
            "_________________________________________________________________\n",
            "dense_27 (Dense)             (None, 128)               16512     \n",
            "_________________________________________________________________\n",
            "dense_28 (Dense)             (None, 10)                1290      \n",
            "=================================================================\n",
            "Total params: 1,417,226\n",
            "Trainable params: 1,417,226\n",
            "Non-trainable params: 0\n",
            "_________________________________________________________________\n"
          ],
          "name": "stdout"
        }
      ]
    },
    {
      "cell_type": "code",
      "metadata": {
        "id": "qVs-17kmzfNb",
        "colab_type": "code",
        "colab": {}
      },
      "source": [
        "from sklearn import preprocessing\n",
        "import numpy\n",
        "encoder = preprocessing.LabelEncoder()\n",
        "y_data_one_hot = encoder.fit_transform(y_data)\n",
        "y_test_one_hot = encoder.fit_transform(y_test)\n",
        "numpy.save('/content/drive/My Drive/NLP/Model/classes.npy', encoder.classes_)"
      ],
      "execution_count": 0,
      "outputs": []
    },
    {
      "cell_type": "code",
      "metadata": {
        "id": "SoepoS2UUeXy",
        "colab_type": "code",
        "outputId": "60fa8b7d-52c4-4082-fb72-9bfaec25c278",
        "colab": {
          "base_uri": "https://localhost:8080/",
          "height": 34
        }
      },
      "source": [
        "y_test_one_hot"
      ],
      "execution_count": 0,
      "outputs": [
        {
          "output_type": "execute_result",
          "data": {
            "text/plain": [
              "array([0, 0, 0, ..., 1, 1, 1])"
            ]
          },
          "metadata": {
            "tags": []
          },
          "execution_count": 108
        }
      ]
    },
    {
      "cell_type": "code",
      "metadata": {
        "id": "HaQlW9q5T7ue",
        "colab_type": "code",
        "colab": {}
      },
      "source": [
        "# list(y_data_one_hot)"
      ],
      "execution_count": 0,
      "outputs": []
    },
    {
      "cell_type": "code",
      "metadata": {
        "id": "ejJf7VcIrSxd",
        "colab_type": "code",
        "colab": {}
      },
      "source": [
        "# encoder.classes_ = numpy.load('/content/drive/My Drive/NLP/Model/classes.npy')"
      ],
      "execution_count": 0,
      "outputs": []
    },
    {
      "cell_type": "code",
      "metadata": {
        "id": "L-s6EXd3zhb1",
        "colab_type": "code",
        "colab": {}
      },
      "source": [
        "from sklearn import metrics\n",
        "\n",
        "def train(model, X_data, y_data, X_test, y_test, n_epochs=50):   \n",
        "    #split training data and validation data\n",
        "    X_train, X_val, y_train, y_val = train_test_split(X_data, y_data, test_size=0.05, random_state=2019)\n",
        "    history = model.fit(X_train, y_train, validation_data=(X_val, y_val), epochs=n_epochs, batch_size=512)\n",
        "    \n",
        "    train_predictions = model.predict(X_train)\n",
        "    val_predictions = model.predict(X_val)\n",
        "    test_predictions = model.predict(X_test)\n",
        "    \n",
        "    val_predictions = val_predictions.argmax(axis=-1)\n",
        "    test_predictions = test_predictions.argmax(axis=-1)\n",
        "    train_predictions = train_predictions.argmax(axis=-1)\n",
        "\n",
        "    print(\"Train accuract\", metrics.accuracy_score(train_predictions, y_train))\n",
        "    print(\"Validation accuracy: \", metrics.accuracy_score(val_predictions, y_val))\n",
        "    print(\"Test accuracy: \", metrics.accuracy_score(test_predictions, y_test))\n",
        "    \n",
        "    model_json = model.to_json()\n",
        "    with open(\"/content/drive/My Drive/NLP/Model/model.json\", \"w\") as json_file:\n",
        "        json_file.write(model_json)\n",
        "    # serialize weights to HDF5\n",
        "    model.save_weights(\"/content/drive/My Drive/NLP/Model/model.h5\")\n",
        "    print(\"Saved model to disk\")\n",
        "\n",
        "    return history"
      ],
      "execution_count": 0,
      "outputs": []
    },
    {
      "cell_type": "code",
      "metadata": {
        "id": "XGP9fvmTzkTh",
        "colab_type": "code",
        "outputId": "ecd6e8ad-92b0-4ee6-b7a4-018381b347af",
        "colab": {
          "base_uri": "https://localhost:8080/",
          "height": 1822
        }
      },
      "source": [
        "history = train(model=model, X_data=tfidf_X_data_svd, y_data=y_data_one_hot, X_test=tfidf_X_test_svd, y_test=y_test_one_hot)"
      ],
      "execution_count": 0,
      "outputs": [
        {
          "output_type": "stream",
          "text": [
            "Train on 47854 samples, validate on 2519 samples\n",
            "Epoch 1/50\n",
            "47854/47854 [==============================] - 14s 301us/step - loss: 1.7684 - acc: 0.3389 - val_loss: 0.7165 - val_acc: 0.7674\n",
            "Epoch 2/50\n",
            "47854/47854 [==============================] - 12s 254us/step - loss: 0.8121 - acc: 0.7381 - val_loss: 0.4448 - val_acc: 0.8722\n",
            "Epoch 3/50\n",
            "47854/47854 [==============================] - 12s 254us/step - loss: 0.5611 - acc: 0.8280 - val_loss: 0.3667 - val_acc: 0.8952\n",
            "Epoch 4/50\n",
            "47854/47854 [==============================] - 12s 253us/step - loss: 0.4638 - acc: 0.8598 - val_loss: 0.3384 - val_acc: 0.8980\n",
            "Epoch 5/50\n",
            "47854/47854 [==============================] - 12s 254us/step - loss: 0.4092 - acc: 0.8751 - val_loss: 0.3160 - val_acc: 0.9047\n",
            "Epoch 6/50\n",
            "47854/47854 [==============================] - 12s 258us/step - loss: 0.3727 - acc: 0.8856 - val_loss: 0.3024 - val_acc: 0.9099\n",
            "Epoch 7/50\n",
            "47854/47854 [==============================] - 12s 254us/step - loss: 0.3449 - acc: 0.8919 - val_loss: 0.3182 - val_acc: 0.9103\n",
            "Epoch 8/50\n",
            "47854/47854 [==============================] - 12s 253us/step - loss: 0.3252 - acc: 0.8985 - val_loss: 0.2884 - val_acc: 0.9135\n",
            "Epoch 9/50\n",
            "47854/47854 [==============================] - 12s 253us/step - loss: 0.3096 - acc: 0.9021 - val_loss: 0.2827 - val_acc: 0.9131\n",
            "Epoch 10/50\n",
            "47854/47854 [==============================] - 12s 252us/step - loss: 0.2964 - acc: 0.9057 - val_loss: 0.2739 - val_acc: 0.9146\n",
            "Epoch 11/50\n",
            "47854/47854 [==============================] - 12s 253us/step - loss: 0.2755 - acc: 0.9111 - val_loss: 0.2783 - val_acc: 0.9123\n",
            "Epoch 12/50\n",
            "47854/47854 [==============================] - 12s 252us/step - loss: 0.2675 - acc: 0.9119 - val_loss: 0.2764 - val_acc: 0.9182\n",
            "Epoch 13/50\n",
            "47854/47854 [==============================] - 12s 251us/step - loss: 0.2591 - acc: 0.9157 - val_loss: 0.2718 - val_acc: 0.9194\n",
            "Epoch 14/50\n",
            "47854/47854 [==============================] - 12s 252us/step - loss: 0.2461 - acc: 0.9181 - val_loss: 0.2799 - val_acc: 0.9127\n",
            "Epoch 15/50\n",
            "47854/47854 [==============================] - 12s 250us/step - loss: 0.2365 - acc: 0.9205 - val_loss: 0.2812 - val_acc: 0.9154\n",
            "Epoch 16/50\n",
            "47854/47854 [==============================] - 12s 250us/step - loss: 0.2283 - acc: 0.9240 - val_loss: 0.2743 - val_acc: 0.9194\n",
            "Epoch 17/50\n",
            "47854/47854 [==============================] - 12s 250us/step - loss: 0.2190 - acc: 0.9260 - val_loss: 0.2774 - val_acc: 0.9150\n",
            "Epoch 18/50\n",
            "47854/47854 [==============================] - 12s 250us/step - loss: 0.2169 - acc: 0.9268 - val_loss: 0.2797 - val_acc: 0.9127\n",
            "Epoch 19/50\n",
            "47854/47854 [==============================] - 12s 252us/step - loss: 0.2049 - acc: 0.9318 - val_loss: 0.2774 - val_acc: 0.9226\n",
            "Epoch 20/50\n",
            "47854/47854 [==============================] - 12s 251us/step - loss: 0.2037 - acc: 0.9310 - val_loss: 0.2769 - val_acc: 0.9154\n",
            "Epoch 21/50\n",
            "47854/47854 [==============================] - 13s 261us/step - loss: 0.1975 - acc: 0.9329 - val_loss: 0.2885 - val_acc: 0.9178\n",
            "Epoch 22/50\n",
            "47854/47854 [==============================] - 12s 252us/step - loss: 0.1948 - acc: 0.9328 - val_loss: 0.2873 - val_acc: 0.9182\n",
            "Epoch 23/50\n",
            "47854/47854 [==============================] - 12s 251us/step - loss: 0.1850 - acc: 0.9371 - val_loss: 0.2810 - val_acc: 0.9178\n",
            "Epoch 24/50\n",
            "47854/47854 [==============================] - 12s 254us/step - loss: 0.1819 - acc: 0.9375 - val_loss: 0.2923 - val_acc: 0.9178\n",
            "Epoch 25/50\n",
            "47854/47854 [==============================] - 12s 251us/step - loss: 0.1779 - acc: 0.9381 - val_loss: 0.3042 - val_acc: 0.9139\n",
            "Epoch 26/50\n",
            "47854/47854 [==============================] - 12s 254us/step - loss: 0.1740 - acc: 0.9399 - val_loss: 0.2854 - val_acc: 0.9198\n",
            "Epoch 27/50\n",
            "47854/47854 [==============================] - 12s 252us/step - loss: 0.1693 - acc: 0.9413 - val_loss: 0.2898 - val_acc: 0.9162\n",
            "Epoch 28/50\n",
            "47854/47854 [==============================] - 12s 253us/step - loss: 0.1656 - acc: 0.9421 - val_loss: 0.2992 - val_acc: 0.9143\n",
            "Epoch 29/50\n",
            "47854/47854 [==============================] - 12s 256us/step - loss: 0.1622 - acc: 0.9441 - val_loss: 0.3050 - val_acc: 0.9170\n",
            "Epoch 30/50\n",
            "47854/47854 [==============================] - 12s 254us/step - loss: 0.1683 - acc: 0.9413 - val_loss: 0.3017 - val_acc: 0.9131\n",
            "Epoch 31/50\n",
            "47854/47854 [==============================] - 12s 256us/step - loss: 0.1580 - acc: 0.9434 - val_loss: 0.3064 - val_acc: 0.9154\n",
            "Epoch 32/50\n",
            "47854/47854 [==============================] - 12s 259us/step - loss: 0.1537 - acc: 0.9452 - val_loss: 0.3061 - val_acc: 0.9174\n",
            "Epoch 33/50\n",
            "47854/47854 [==============================] - 12s 252us/step - loss: 0.1529 - acc: 0.9451 - val_loss: 0.2993 - val_acc: 0.9115\n",
            "Epoch 34/50\n",
            "47854/47854 [==============================] - 12s 253us/step - loss: 0.1443 - acc: 0.9483 - val_loss: 0.2973 - val_acc: 0.9234\n",
            "Epoch 35/50\n",
            "47854/47854 [==============================] - 12s 253us/step - loss: 0.1431 - acc: 0.9487 - val_loss: 0.3038 - val_acc: 0.9174\n",
            "Epoch 36/50\n",
            "47854/47854 [==============================] - 12s 252us/step - loss: 0.1456 - acc: 0.9485 - val_loss: 0.3080 - val_acc: 0.9154\n",
            "Epoch 37/50\n",
            "47854/47854 [==============================] - 12s 253us/step - loss: 0.1367 - acc: 0.9515 - val_loss: 0.3290 - val_acc: 0.9135\n",
            "Epoch 38/50\n",
            "47854/47854 [==============================] - 12s 253us/step - loss: 0.1368 - acc: 0.9497 - val_loss: 0.3202 - val_acc: 0.9198\n",
            "Epoch 39/50\n",
            "47854/47854 [==============================] - 12s 253us/step - loss: 0.1340 - acc: 0.9506 - val_loss: 0.3164 - val_acc: 0.9139\n",
            "Epoch 40/50\n",
            "47854/47854 [==============================] - 12s 251us/step - loss: 0.1345 - acc: 0.9516 - val_loss: 0.3199 - val_acc: 0.9174\n",
            "Epoch 41/50\n",
            "47854/47854 [==============================] - 12s 252us/step - loss: 0.1325 - acc: 0.9528 - val_loss: 0.3288 - val_acc: 0.9162\n",
            "Epoch 42/50\n",
            "47854/47854 [==============================] - 12s 251us/step - loss: 0.1306 - acc: 0.9528 - val_loss: 0.3231 - val_acc: 0.9190\n",
            "Epoch 43/50\n",
            "47854/47854 [==============================] - 12s 252us/step - loss: 0.1284 - acc: 0.9540 - val_loss: 0.3094 - val_acc: 0.9210\n",
            "Epoch 44/50\n",
            "47854/47854 [==============================] - 12s 253us/step - loss: 0.1248 - acc: 0.9549 - val_loss: 0.3118 - val_acc: 0.9214\n",
            "Epoch 45/50\n",
            "47854/47854 [==============================] - 12s 251us/step - loss: 0.1249 - acc: 0.9553 - val_loss: 0.3153 - val_acc: 0.9174\n",
            "Epoch 46/50\n",
            "47854/47854 [==============================] - 12s 254us/step - loss: 0.1218 - acc: 0.9558 - val_loss: 0.3319 - val_acc: 0.9186\n",
            "Epoch 47/50\n",
            "47854/47854 [==============================] - 12s 253us/step - loss: 0.1184 - acc: 0.9568 - val_loss: 0.3331 - val_acc: 0.9143\n",
            "Epoch 48/50\n",
            "47854/47854 [==============================] - 12s 253us/step - loss: 0.1170 - acc: 0.9566 - val_loss: 0.3298 - val_acc: 0.9182\n",
            "Epoch 49/50\n",
            "47854/47854 [==============================] - 12s 256us/step - loss: 0.1157 - acc: 0.9573 - val_loss: 0.3439 - val_acc: 0.9158\n",
            "Epoch 50/50\n",
            "47854/47854 [==============================] - 12s 253us/step - loss: 0.1137 - acc: 0.9575 - val_loss: 0.3365 - val_acc: 0.9146\n",
            "Train accuract 0.9875454507460192\n",
            "Validation accuracy:  0.9146486701071854\n",
            "Test accuracy:  0.8962943215142629\n",
            "Saved model to disk\n"
          ],
          "name": "stdout"
        }
      ]
    },
    {
      "cell_type": "code",
      "metadata": {
        "id": "hI11UARE_7XT",
        "colab_type": "code",
        "colab": {}
      },
      "source": [
        "import matplotlib.pyplot as plt\n",
        "\n",
        "\n",
        "def visualize(history):\n",
        "    plt.plot(history.history['acc'])\n",
        "    plt.plot(history.history['val_acc'])\n",
        "    plt.title('model accuracy')\n",
        "    plt.ylabel('accuracy')\n",
        "    plt.xlabel('epoch')\n",
        "    plt.legend(['train', 'val_acc'], loc='upper left')\n",
        "    plt.show()\n",
        "    # summarize history for loss\n",
        "    plt.plot(history.history['loss'])\n",
        "    plt.plot(history.history['val_loss'])\n",
        "    plt.title('model loss')\n",
        "    plt.ylabel('loss')\n",
        "    plt.xlabel('epoch')\n",
        "    plt.legend(['train', 'val'], loc='upper left')\n",
        "    plt.show()"
      ],
      "execution_count": 0,
      "outputs": []
    },
    {
      "cell_type": "code",
      "metadata": {
        "id": "xPNIa6BNEY1f",
        "colab_type": "code",
        "outputId": "687bc853-fa60-4ecd-bc07-36b0ddc1dd69",
        "colab": {
          "base_uri": "https://localhost:8080/",
          "height": 573
        }
      },
      "source": [
        "visualize(history)"
      ],
      "execution_count": 0,
      "outputs": [
        {
          "output_type": "display_data",
          "data": {
            "image/png": "[encoded data removed]",
            "text/plain": [
              "<Figure size 432x288 with 1 Axes>"
            ]
          },
          "metadata": {
            "tags": []
          }
        },
        {
          "output_type": "display_data",
          "data": {
            "image/png": "[encoded data removed]",
            "text/plain": [
              "<Figure size 432x288 with 1 Axes>"
            ]
          },
          "metadata": {
            "tags": []
          }
        }
      ]
    },
    {
      "cell_type": "code",
      "metadata": {
        "id": "-pqBgD_TEcPv",
        "colab_type": "code",
        "outputId": "5fe7773d-d9c1-4378-acfc-6b6f3131131d",
        "colab": {
          "base_uri": "https://localhost:8080/",
          "height": 34
        }
      },
      "source": [
        "model_json = model.to_json()\n",
        "with open(\"/content/drive/My Drive/NLP/Model/model.json\", \"w\") as json_file:\n",
        "    json_file.write(model_json)\n",
        "# serialize weights to HDF5\n",
        "model.save_weights(\"/content/drive/My Drive/NLP/Model/model.h5\")\n",
        "print(\"Saved model to disk\")"
      ],
      "execution_count": 0,
      "outputs": [
        {
          "output_type": "stream",
          "text": [
            "Saved model to disk\n"
          ],
          "name": "stdout"
        }
      ]
    },
    {
      "cell_type": "code",
      "metadata": {
        "id": "VxYPEglzpFcv",
        "colab_type": "code",
        "colab": {}
      },
      "source": [
        "# encoder = LabelEncoder()\n",
        "# encoder.classes_ = numpy.load('classes.npy')\n",
        "l = model.predict(np.array([tfidf_X_test_svd[1]]))"
      ],
      "execution_count": 0,
      "outputs": []
    },
    {
      "cell_type": "code",
      "metadata": {
        "id": "IFdLGMAMwfkV",
        "colab_type": "code",
        "outputId": "a5ba3c25-2082-4aef-95eb-80a189c8b33e",
        "colab": {
          "base_uri": "https://localhost:8080/",
          "height": 34
        }
      },
      "source": [
        "numpy.argmax(l[0])"
      ],
      "execution_count": 0,
      "outputs": [
        {
          "output_type": "execute_result",
          "data": {
            "text/plain": [
              "0"
            ]
          },
          "metadata": {
            "tags": []
          },
          "execution_count": 82
        }
      ]
    },
    {
      "cell_type": "code",
      "metadata": {
        "id": "K_P7aYEWwnJ7",
        "colab_type": "code",
        "outputId": "84291b07-742b-4d21-a167-671ecb602a6a",
        "colab": {
          "base_uri": "https://localhost:8080/",
          "height": 34
        }
      },
      "source": [
        "y_test_one_hot[0]"
      ],
      "execution_count": 0,
      "outputs": [
        {
          "output_type": "execute_result",
          "data": {
            "text/plain": [
              "0"
            ]
          },
          "metadata": {
            "tags": []
          },
          "execution_count": 83
        }
      ]
    },
    {
      "cell_type": "code",
      "metadata": {
        "id": "MFUlXe5lUrsH",
        "colab_type": "code",
        "outputId": "63527e82-4e23-4100-fcde-7e171514f26e",
        "colab": {
          "base_uri": "https://localhost:8080/",
          "height": 34
        }
      },
      "source": [
        "y_test[0]"
      ],
      "execution_count": 0,
      "outputs": [
        {
          "output_type": "execute_result",
          "data": {
            "text/plain": [
              "'Chinh tri Xa hoi'"
            ]
          },
          "metadata": {
            "tags": []
          },
          "execution_count": 110
        }
      ]
    },
    {
      "cell_type": "code",
      "metadata": {
        "id": "UMoA03BZwSi8",
        "colab_type": "code",
        "outputId": "11b8353d-6635-4626-8587-340c0da3ebc2",
        "colab": {
          "base_uri": "https://localhost:8080/",
          "height": 34
        }
      },
      "source": [
        ""
      ],
      "execution_count": 0,
      "outputs": [
        {
          "output_type": "execute_result",
          "data": {
            "text/plain": [
              "'Chinh tri Xa hoi'"
            ]
          },
          "metadata": {
            "tags": []
          },
          "execution_count": 109
        }
      ]
    },
    {
      "cell_type": "code",
      "metadata": {
        "id": "UmpC9sU9ufb0",
        "colab_type": "code",
        "outputId": "afdb599b-5f9c-4a32-c372-3070676e9302",
        "colab": {
          "base_uri": "https://localhost:8080/",
          "height": 34
        }
      },
      "source": [
        "np.array([tfidf_X_test_svd[1]]).shape"
      ],
      "execution_count": 0,
      "outputs": [
        {
          "output_type": "execute_result",
          "data": {
            "text/plain": [
              "(1, 500)"
            ]
          },
          "metadata": {
            "tags": []
          },
          "execution_count": 64
        }
      ]
    },
    {
      "cell_type": "code",
      "metadata": {
        "id": "Uc3_Qd1WuyfE",
        "colab_type": "code",
        "outputId": "e428e9ee-e620-4faa-d76d-9d1828dd043c",
        "colab": {
          "base_uri": "https://localhost:8080/",
          "height": 34
        }
      },
      "source": [
        "tfidf_X_test_svd.shape"
      ],
      "execution_count": 0,
      "outputs": [
        {
          "output_type": "execute_result",
          "data": {
            "text/plain": [
              "(33759, 500)"
            ]
          },
          "metadata": {
            "tags": []
          },
          "execution_count": 63
        }
      ]
    },
    {
      "cell_type": "code",
      "metadata": {
        "id": "NzeYlSSCvSDN",
        "colab_type": "code",
        "colab": {}
      },
      "source": [
        ""
      ],
      "execution_count": 0,
      "outputs": []
    }
  ]
}